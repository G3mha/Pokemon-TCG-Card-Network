{
 "cells": [
  {
   "cell_type": "code",
   "execution_count": 4,
   "metadata": {
    "execution": {
     "iopub.execute_input": "2023-10-23T13:25:23.441317Z",
     "iopub.status.busy": "2023-10-23T13:25:23.440093Z",
     "iopub.status.idle": "2023-10-23T13:25:23.458188Z",
     "shell.execute_reply": "2023-10-23T13:25:23.454776Z",
     "shell.execute_reply.started": "2023-10-23T13:25:23.441273Z"
    }
   },
   "outputs": [],
   "source": [
    "import graph_tool_extras as gte\n",
    "import netpixi\n",
    "from graph_tool import draw\n",
    "import distribution as dst\n",
    "import numpy as np\n",
    "import pandas as pd\n",
    "import matplotlib.pyplot as plt\n",
    "%matplotlib inline"
   ]
  },
  {
   "cell_type": "code",
   "execution_count": 5,
   "metadata": {
    "execution": {
     "iopub.execute_input": "2023-10-23T13:25:23.900224Z",
     "iopub.status.busy": "2023-10-23T13:25:23.899863Z",
     "iopub.status.idle": "2023-10-23T13:25:23.912275Z",
     "shell.execute_reply": "2023-10-23T13:25:23.909430Z",
     "shell.execute_reply.started": "2023-10-23T13:25:23.900202Z"
    }
   },
   "outputs": [],
   "source": [
    "PATH = 'data/tournaments.csv'"
   ]
  },
  {
   "cell_type": "markdown",
   "metadata": {},
   "source": [
    "## Analisando os dados importados"
   ]
  },
  {
   "cell_type": "code",
   "execution_count": 8,
   "metadata": {
    "execution": {
     "iopub.execute_input": "2023-10-23T13:27:06.513813Z",
     "iopub.status.busy": "2023-10-23T13:27:06.513243Z",
     "iopub.status.idle": "2023-10-23T13:27:06.530042Z",
     "shell.execute_reply": "2023-10-23T13:27:06.527387Z",
     "shell.execute_reply.started": "2023-10-23T13:27:06.513779Z"
    }
   },
   "outputs": [],
   "source": [
    "def get_line_data(line):\n",
    "    line = line.split(',')\n",
    "    retval = [\n",
    "        line[0],\n",
    "        line[1],\n",
    "        int(line[2]), \n",
    "        float(line[3] if line[3] != 'None' else -1),\n",
    "        line[4], \n",
    "        line[5], \n",
    "        int(line[6] if line[3] != 'None' else -1), \n",
    "        line[7], \n",
    "        int(line[8] if line[3] != 'None' else -1), \n",
    "        line[9], \n",
    "        line[10], \n",
    "        int(line[11]), \n",
    "        int(line[12]), \n",
    "        int(line[13]), \n",
    "        line[14], \n",
    "        line[15], \n",
    "        line[16], \n",
    "        [line[17], line[18], line[19]], \n",
    "        line[20], \n",
    "    ]\n",
    "    # id_card\n",
    "    # name_card\n",
    "    # amount_card\n",
    "    # price_card\n",
    "    # energy_type_card\n",
    "    # type_card\n",
    "    # combo_type_id\n",
    "    # combo_type_name\n",
    "    # id_player\n",
    "    # name_player\n",
    "    # country_player\n",
    "    # all_time_score\n",
    "    # ranking_player_tournament\n",
    "    # id_tournament\n",
    "    # category_tournament\n",
    "    # name_tournament\n",
    "    # country_tournament\n",
    "    # date_tournament (year, month, day)\n",
    "    # valid_rotation_at_tournament \n",
    "    return retval\n"
   ]
  },
  {
   "cell_type": "code",
   "execution_count": 9,
   "metadata": {
    "execution": {
     "iopub.execute_input": "2023-10-23T13:27:07.558175Z",
     "iopub.status.busy": "2023-10-23T13:27:07.555074Z",
     "iopub.status.idle": "2023-10-23T13:27:07.620825Z",
     "shell.execute_reply": "2023-10-23T13:27:07.618372Z",
     "shell.execute_reply.started": "2023-10-23T13:27:07.558102Z"
    }
   },
   "outputs": [
    {
     "ename": "TypeError",
     "evalue": "unhashable type: 'list'",
     "output_type": "error",
     "traceback": [
      "\u001b[0;31m---------------------------------------------------------------------------\u001b[0m",
      "\u001b[0;31mTypeError\u001b[0m                                 Traceback (most recent call last)",
      "Cell \u001b[0;32mIn[9], line 8\u001b[0m\n\u001b[1;32m      5\u001b[0m \u001b[38;5;28mnext\u001b[39m(f) \u001b[38;5;66;03m# skip header\u001b[39;00m\n\u001b[1;32m      7\u001b[0m \u001b[38;5;28;01mfor\u001b[39;00m line \u001b[38;5;129;01min\u001b[39;00m f:\n\u001b[0;32m----> 8\u001b[0m     data \u001b[38;5;241m=\u001b[39m \u001b[43mget_line_data\u001b[49m\u001b[43m(\u001b[49m\u001b[43mline\u001b[49m\u001b[43m)\u001b[49m\n\u001b[1;32m      9\u001b[0m     combo_type_id \u001b[38;5;241m=\u001b[39m data[\u001b[38;5;241m6\u001b[39m]\n\u001b[1;32m     10\u001b[0m     id_card \u001b[38;5;241m=\u001b[39m data[\u001b[38;5;241m0\u001b[39m]\n",
      "Cell \u001b[0;32mIn[8], line 3\u001b[0m, in \u001b[0;36mget_line_data\u001b[0;34m(line)\u001b[0m\n\u001b[1;32m      1\u001b[0m \u001b[38;5;28;01mdef\u001b[39;00m \u001b[38;5;21mget_line_data\u001b[39m(line):\n\u001b[1;32m      2\u001b[0m     line \u001b[38;5;241m=\u001b[39m line\u001b[38;5;241m.\u001b[39msplit(\u001b[38;5;124m'\u001b[39m\u001b[38;5;124m,\u001b[39m\u001b[38;5;124m'\u001b[39m)\n\u001b[0;32m----> 3\u001b[0m     retval \u001b[38;5;241m=\u001b[39m {\n\u001b[1;32m      4\u001b[0m         line[\u001b[38;5;241m0\u001b[39m], \n\u001b[1;32m      5\u001b[0m         line[\u001b[38;5;241m1\u001b[39m],\n\u001b[1;32m      6\u001b[0m         \u001b[38;5;28mint\u001b[39m(line[\u001b[38;5;241m2\u001b[39m]), \n\u001b[1;32m      7\u001b[0m         \u001b[38;5;28mfloat\u001b[39m(line[\u001b[38;5;241m3\u001b[39m]), \n\u001b[1;32m      8\u001b[0m         line[\u001b[38;5;241m4\u001b[39m], \n\u001b[1;32m      9\u001b[0m         line[\u001b[38;5;241m5\u001b[39m], \n\u001b[1;32m     10\u001b[0m         \u001b[38;5;28mint\u001b[39m(line[\u001b[38;5;241m6\u001b[39m]), \n\u001b[1;32m     11\u001b[0m         line[\u001b[38;5;241m7\u001b[39m], \n\u001b[1;32m     12\u001b[0m         \u001b[38;5;28mint\u001b[39m(line[\u001b[38;5;241m8\u001b[39m]), \n\u001b[1;32m     13\u001b[0m         line[\u001b[38;5;241m9\u001b[39m], \n\u001b[1;32m     14\u001b[0m         line[\u001b[38;5;241m10\u001b[39m], \n\u001b[1;32m     15\u001b[0m         \u001b[38;5;28mint\u001b[39m(line[\u001b[38;5;241m11\u001b[39m]), \n\u001b[1;32m     16\u001b[0m         \u001b[38;5;28mint\u001b[39m(line[\u001b[38;5;241m12\u001b[39m]), \n\u001b[1;32m     17\u001b[0m         \u001b[38;5;28mint\u001b[39m(line[\u001b[38;5;241m13\u001b[39m]), \n\u001b[1;32m     18\u001b[0m         line[\u001b[38;5;241m14\u001b[39m], \n\u001b[1;32m     19\u001b[0m         line[\u001b[38;5;241m15\u001b[39m], \n\u001b[1;32m     20\u001b[0m         line[\u001b[38;5;241m16\u001b[39m], \n\u001b[1;32m     21\u001b[0m         [line[\u001b[38;5;241m17\u001b[39m], line[\u001b[38;5;241m18\u001b[39m], line[\u001b[38;5;241m19\u001b[39m]], \n\u001b[1;32m     22\u001b[0m         line[\u001b[38;5;241m20\u001b[39m], \n\u001b[1;32m     23\u001b[0m     }\n\u001b[1;32m     24\u001b[0m     \u001b[38;5;66;03m# id_card\u001b[39;00m\n\u001b[1;32m     25\u001b[0m     \u001b[38;5;66;03m# name_card\u001b[39;00m\n\u001b[1;32m     26\u001b[0m     \u001b[38;5;66;03m# amount_card\u001b[39;00m\n\u001b[0;32m   (...)\u001b[0m\n\u001b[1;32m     41\u001b[0m     \u001b[38;5;66;03m# date_tournament (year, month, day)\u001b[39;00m\n\u001b[1;32m     42\u001b[0m     \u001b[38;5;66;03m# valid_rotation_at_tournament \u001b[39;00m\n\u001b[1;32m     43\u001b[0m     \u001b[38;5;28;01mreturn\u001b[39;00m retval\n",
      "\u001b[0;31mTypeError\u001b[0m: unhashable type: 'list'"
     ]
    }
   ],
   "source": [
    "combo_card_amount = {} # key = combo_id, value = {key = card_id, value = amount}\n",
    "\n",
    "with open(PATH) as f:\n",
    "    i = 0\n",
    "    next(f) # skip header\n",
    "\n",
    "    for line in f:\n",
    "        data = get_line_data(line)\n",
    "        combo_type_id = data[6]\n",
    "        id_card = data[0]\n",
    "        amount_card = data[2] \n",
    "\n",
    "        combo = combo_card_amount.get(combo_type_id)\n",
    "        if combo is None:\n",
    "            combo_card_amount[combo_type_id] = {id_card: amount_card}\n",
    "        else:\n",
    "            if combo.get(id_card) is None:\n",
    "                combo_card_amount[combo_type_id][id_card] = amount_card\n",
    "            else:\n",
    "                combo_card_amount[combo_type_id][id_card] += amount_card\n",
    "        i += 1\n",
    "        \n",
    "\n",
    "print('Number of rows: {}'.format(i))"
   ]
  },
  {
   "cell_type": "code",
   "execution_count": null,
   "metadata": {},
   "outputs": [],
   "source": []
  }
 ],
 "metadata": {
  "kernelspec": {
   "display_name": "Python 3 (ipykernel)",
   "language": "python",
   "name": "python3"
  },
  "language_info": {
   "codemirror_mode": {
    "name": "ipython",
    "version": 3
   },
   "file_extension": ".py",
   "mimetype": "text/x-python",
   "name": "python",
   "nbconvert_exporter": "python",
   "pygments_lexer": "ipython3",
   "version": "3.11.6"
  }
 },
 "nbformat": 4,
 "nbformat_minor": 4
}
