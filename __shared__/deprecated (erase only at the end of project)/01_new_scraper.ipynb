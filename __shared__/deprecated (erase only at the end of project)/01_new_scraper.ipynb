{
 "cells": [
  {
   "cell_type": "markdown",
   "metadata": {},
   "source": [
    "# Pokémon TCG webscraper"
   ]
  },
  {
   "cell_type": "code",
   "execution_count": null,
   "metadata": {},
   "outputs": [],
   "source": [
    "from selenium import webdriver\n",
    "from selenium.webdriver.common.by import By\n",
    "from selenium.webdriver.chrome.options import Options\n",
    "import time\n",
    "import re\n",
    "from threading import Thread"
   ]
  },
  {
   "cell_type": "markdown",
   "metadata": {},
   "source": [
    "## Getting all cards and their data"
   ]
  },
  {
   "cell_type": "code",
   "execution_count": null,
   "metadata": {},
   "outputs": [],
   "source": [
    "def get_card_code_from_link(link):\n",
    "    set_code = link.split('/')[-2]\n",
    "    number_card = link.split('/')[-1]\n",
    "    number_card = (3 - len(number_card)) * '0' + number_card\n",
    "    return set_code + number_card"
   ]
  },
  {
   "cell_type": "code",
   "execution_count": null,
   "metadata": {},
   "outputs": [],
   "source": [
    "# Set the URL that we will start scraping from\n",
    "URL = 'https://limitlesstcg.com/cards'\n",
    "\n",
    "# Open Chrome\n",
    "driver = webdriver.Chrome()\n",
    "\n",
    "# Open the URL\n",
    "driver.get(URL)\n",
    "\n",
    "# Let's scrape all the links to the sets\n",
    "e_sets = driver.find_elements(By.XPATH, '/html/body/main/div/table/tbody/tr/td[1]/a')\n",
    "set_links = [element.get_attribute('href') for element in e_sets]\n",
    "\n",
    "# Create a list to store roughly all the cards codes that have been already scraped\n",
    "scraped_cards = []\n",
    "output = {} # key is code for the first print for that card, value is a list of other printings\n",
    "\n",
    "# Let's enter the page for each set and scrape the links to each card\n",
    "for set_link in set_links:\n",
    "    \n",
    "    # Go to set link\n",
    "    driver.get(set_link)\n",
    "    \n",
    "    # Get all the links to the cards\n",
    "    e_all_cards = driver.find_element(By.CLASS_NAME, 'card-search-grid').find_elements(By.XPATH, './a')\n",
    "    cards_links = [e.get_attribute('href') for e in e_all_cards]\n",
    "\n",
    "    # Then enter the page for each card and scrape the data\n",
    "    for card_link in cards_links:\n",
    "        \n",
    "        # Get the card code\n",
    "        card_code = get_card_code_from_link(card_link)\n",
    "        \n",
    "        # If this card has already been scraped, then skip it\n",
    "        if card_code in scraped_cards:\n",
    "            continue\n",
    "\n",
    "        # Go to card link\n",
    "        driver.get(card_link)\n",
    "\n",
    "        # Get the first print of this card and then all the other printings\n",
    "        e_other_printings = driver.find_element(By.CLASS_NAME, 'card-prints-versions').find_elements(By.XPATH, './tbody/tr/td[1]/a')\n",
    "\n",
    "        # Initialize the first print variables\n",
    "        is_first_print = True\n",
    "        first_print = None\n",
    "\n",
    "        # Get the first print of this card and all the other printings\n",
    "        for e in e_other_printings:\n",
    "            \n",
    "            try:\n",
    "                code = get_card_code_from_link(e.get_attribute('href'))\n",
    "            except: # if e has no href, then it is the current card\n",
    "                code = card_code\n",
    "\n",
    "            if code not in scraped_cards:\n",
    "                scraped_cards.append(card_code)\n",
    "\n",
    "                if is_first_print:\n",
    "                    first_print = code\n",
    "                    is_first_print = False\n",
    "                    output[first_print] = []\n",
    "                else:\n",
    "                    output[first_print].append(code)\n",
    "\n",
    "\n",
    "# Write the output to a file\n",
    "with open('card_printings.txt', 'w') as f:\n",
    "    f.write('<first_print>:<print1>,<print2>,...,<printn>\\n')\n",
    "    for key, value in output.items():\n",
    "        f.write(key + ':' + ','.join(value) + '\\n')\n",
    "\n",
    "# Close the session\n",
    "driver.close()"
   ]
  }
 ],
 "metadata": {
  "language_info": {
   "name": "python"
  }
 },
 "nbformat": 4,
 "nbformat_minor": 2
}
