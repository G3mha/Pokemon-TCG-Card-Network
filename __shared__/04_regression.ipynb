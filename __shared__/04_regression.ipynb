{
 "cells": [
  {
   "cell_type": "markdown",
   "metadata": {},
   "source": [
    "# 04 - Visualizando as regressões lineares\n",
    "\n",
    "Alunos: Arthur Barreto, Enricco Gemha e Felipe Catapano"
   ]
  },
  {
   "cell_type": "code",
   "execution_count": null,
   "metadata": {
    "execution": {
     "iopub.execute_input": "2023-11-29T01:26:17.819824Z",
     "iopub.status.busy": "2023-11-29T01:26:17.819588Z",
     "iopub.status.idle": "2023-11-29T01:26:18.156184Z",
     "shell.execute_reply": "2023-11-29T01:26:18.153628Z",
     "shell.execute_reply.started": "2023-11-29T01:26:17.819788Z"
    }
   },
   "outputs": [],
   "source": [
    "import pandas as pd\n",
    "from io import StringIO\n",
    "from IPython.display import display, Image\n",
    "import os"
   ]
  },
  {
   "cell_type": "markdown",
   "metadata": {},
   "source": [
    "## Recorte total"
   ]
  },
  {
   "cell_type": "markdown",
   "metadata": {},
   "source": [
    "Vamos visualizar a regressão linear gerada, sem corte de tipo de carta, bem como sua distribuição de resíduos."
   ]
  },
  {
   "cell_type": "markdown",
   "metadata": {},
   "source": [
    "Primeiro, podemos ver a correlação entre as variáveis abaixo."
   ]
  },
  {
   "cell_type": "code",
   "execution_count": null,
   "metadata": {
    "execution": {
     "iopub.execute_input": "2023-11-29T01:26:18.157216Z",
     "iopub.status.busy": "2023-11-29T01:26:18.157050Z",
     "iopub.status.idle": "2023-11-29T01:26:18.196888Z",
     "shell.execute_reply": "2023-11-29T01:26:18.195151Z",
     "shell.execute_reply.started": "2023-11-29T01:26:18.157207Z"
    }
   },
   "outputs": [],
   "source": [
    "with open('results/tournaments/data_corr.txt', 'r') as f:\n",
    "    content = f.read()\n",
    "\n",
    "df = pd.read_csv(StringIO(content), delim_whitespace=True, index_col=0)\n",
    "pd.set_option('display.max_columns', None)\n",
    "df"
   ]
  },
  {
   "cell_type": "markdown",
   "metadata": {},
   "source": [
    "Em seguida, observar as métricas do conjunto de dados (contagem, média, desvio padrão, mínimo, máximo e quartis)."
   ]
  },
  {
   "cell_type": "code",
   "execution_count": null,
   "metadata": {
    "execution": {
     "iopub.execute_input": "2023-11-29T01:26:18.199486Z",
     "iopub.status.busy": "2023-11-29T01:26:18.199330Z",
     "iopub.status.idle": "2023-11-29T01:26:18.226477Z",
     "shell.execute_reply": "2023-11-29T01:26:18.224554Z",
     "shell.execute_reply.started": "2023-11-29T01:26:18.199474Z"
    }
   },
   "outputs": [],
   "source": [
    "with open('results/tournaments/data_describe.txt', 'r') as f:\n",
    "    content = f.read()\n",
    "\n",
    "df = pd.read_csv(StringIO(content), delim_whitespace=True, index_col=0)\n",
    "pd.set_option('display.max_columns', None)\n",
    "df"
   ]
  },
  {
   "cell_type": "markdown",
   "metadata": {},
   "source": [
    "Com isso, verificamos o resultado da **regressão linear para a hipótese 1**."
   ]
  },
  {
   "cell_type": "code",
   "execution_count": null,
   "metadata": {
    "execution": {
     "iopub.execute_input": "2023-11-29T01:26:19.815618Z",
     "iopub.status.busy": "2023-11-29T01:26:19.815213Z",
     "iopub.status.idle": "2023-11-29T01:26:19.938423Z",
     "shell.execute_reply": "2023-11-29T01:26:19.937848Z",
     "shell.execute_reply.started": "2023-11-29T01:26:19.815590Z"
    }
   },
   "outputs": [],
   "source": [
    "df = pd.read_excel('results/tournaments/h1_liner_regression.xlsx', index_col=0)\n",
    "pd.set_option('display.max_columns', None)\n",
    "df"
   ]
  },
  {
   "cell_type": "markdown",
   "metadata": {},
   "source": [
    "E os resíduos da regressão linear para a hipótese 1."
   ]
  },
  {
   "cell_type": "code",
   "execution_count": null,
   "metadata": {
    "execution": {
     "iopub.execute_input": "2023-11-29T01:26:22.523081Z",
     "iopub.status.busy": "2023-11-29T01:26:22.522534Z",
     "iopub.status.idle": "2023-11-29T01:26:22.762110Z",
     "shell.execute_reply": "2023-11-29T01:26:22.761282Z",
     "shell.execute_reply.started": "2023-11-29T01:26:22.523056Z"
    }
   },
   "outputs": [],
   "source": [
    "folder_path = 'results/tournaments/'\n",
    "filenames = [f for f in os.listdir(folder_path) if os.path.isfile(os.path.join(folder_path, f))]\n",
    "for filename in filenames:\n",
    "    if filename.startswith('h1_plot_residuals'):\n",
    "        display(Image(filename=(folder_path + filename)))"
   ]
  },
  {
   "cell_type": "markdown",
   "metadata": {},
   "source": [
    "Por fim, observamos abaixo o resultado da **regressão linear para a hipótese 2**."
   ]
  },
  {
   "cell_type": "code",
   "execution_count": null,
   "metadata": {
    "execution": {
     "iopub.execute_input": "2023-11-29T01:26:34.028682Z",
     "iopub.status.busy": "2023-11-29T01:26:34.025413Z",
     "iopub.status.idle": "2023-11-29T01:26:34.112955Z",
     "shell.execute_reply": "2023-11-29T01:26:34.112219Z",
     "shell.execute_reply.started": "2023-11-29T01:26:34.028619Z"
    }
   },
   "outputs": [],
   "source": [
    "df = pd.read_excel('results/tournaments/h2_liner_regression.xlsx', index_col=0)\n",
    "pd.set_option('display.max_columns', None)\n",
    "df"
   ]
  },
  {
   "cell_type": "markdown",
   "metadata": {},
   "source": [
    "E os resíduos da regressão linear para a hipótese 2."
   ]
  },
  {
   "cell_type": "code",
   "execution_count": null,
   "metadata": {
    "execution": {
     "iopub.execute_input": "2023-11-29T01:26:38.458170Z",
     "iopub.status.busy": "2023-11-29T01:26:38.457481Z",
     "iopub.status.idle": "2023-11-29T01:26:38.655121Z",
     "shell.execute_reply": "2023-11-29T01:26:38.654334Z",
     "shell.execute_reply.started": "2023-11-29T01:26:38.458128Z"
    }
   },
   "outputs": [],
   "source": [
    "folder_path = 'results/tournaments/'\n",
    "filenames = [f for f in os.listdir(folder_path) if os.path.isfile(os.path.join(folder_path, f))]\n",
    "for filename in filenames:\n",
    "    if filename.startswith('h2_plot_residuals'):\n",
    "        display(Image(filename=(folder_path + filename)))"
   ]
  },
  {
   "cell_type": "markdown",
   "metadata": {},
   "source": [
    "## Recorte cartas do tipo Pokémon"
   ]
  },
  {
   "cell_type": "markdown",
   "metadata": {},
   "source": [
    "Vamos visualizar a regressão linear gerada, com o corte de carta do tipo Pokémon, bem como sua distribuição de resíduos."
   ]
  },
  {
   "cell_type": "markdown",
   "metadata": {},
   "source": [
    "Primeiro, podemos ver a correlação entre as variáveis abaixo."
   ]
  },
  {
   "cell_type": "code",
   "execution_count": null,
   "metadata": {
    "execution": {
     "iopub.execute_input": "2023-11-29T01:26:41.479710Z",
     "iopub.status.busy": "2023-11-29T01:26:41.477642Z",
     "iopub.status.idle": "2023-11-29T01:26:41.524778Z",
     "shell.execute_reply": "2023-11-29T01:26:41.522289Z",
     "shell.execute_reply.started": "2023-11-29T01:26:41.479671Z"
    }
   },
   "outputs": [],
   "source": [
    "with open('results/tournaments/data_corr.txt', 'r') as f:\n",
    "    content = f.read()\n",
    "\n",
    "df = pd.read_csv(StringIO(content), delim_whitespace=True, index_col=0)\n",
    "pd.set_option('display.max_columns', None)\n",
    "df"
   ]
  },
  {
   "cell_type": "markdown",
   "metadata": {},
   "source": [
    "Em seguida, observar as métricas do conjunto de dados (contagem, média, desvio padrão, mínimo, máximo e quartis)."
   ]
  },
  {
   "cell_type": "code",
   "execution_count": null,
   "metadata": {
    "execution": {
     "iopub.execute_input": "2023-11-29T01:26:42.530016Z",
     "iopub.status.busy": "2023-11-29T01:26:42.529538Z",
     "iopub.status.idle": "2023-11-29T01:26:42.577872Z",
     "shell.execute_reply": "2023-11-29T01:26:42.574518Z",
     "shell.execute_reply.started": "2023-11-29T01:26:42.529904Z"
    }
   },
   "outputs": [],
   "source": [
    "with open('results/tournaments/data_describe.txt', 'r') as f:\n",
    "    content = f.read()\n",
    "\n",
    "df = pd.read_csv(StringIO(content), delim_whitespace=True, index_col=0)\n",
    "pd.set_option('display.max_columns', None)\n",
    "df"
   ]
  },
  {
   "cell_type": "markdown",
   "metadata": {},
   "source": [
    "Com isso, verificamos o resultado da **regressão linear para a hipótese 1**."
   ]
  },
  {
   "cell_type": "code",
   "execution_count": null,
   "metadata": {
    "execution": {
     "iopub.execute_input": "2023-11-29T01:26:47.914663Z",
     "iopub.status.busy": "2023-11-29T01:26:47.913455Z",
     "iopub.status.idle": "2023-11-29T01:26:47.960480Z",
     "shell.execute_reply": "2023-11-29T01:26:47.958438Z",
     "shell.execute_reply.started": "2023-11-29T01:26:47.914628Z"
    }
   },
   "outputs": [],
   "source": [
    "df = pd.read_excel('results/tournaments/h1_liner_regression.xlsx', index_col=0)\n",
    "pd.set_option('display.max_columns', None)\n",
    "df"
   ]
  },
  {
   "cell_type": "markdown",
   "metadata": {},
   "source": [
    "E os resíduos da regressão linear para a hipótese 1."
   ]
  },
  {
   "cell_type": "code",
   "execution_count": null,
   "metadata": {
    "execution": {
     "iopub.execute_input": "2023-11-29T01:26:50.183189Z",
     "iopub.status.busy": "2023-11-29T01:26:50.181659Z",
     "iopub.status.idle": "2023-11-29T01:26:50.326136Z",
     "shell.execute_reply": "2023-11-29T01:26:50.325139Z",
     "shell.execute_reply.started": "2023-11-29T01:26:50.183150Z"
    }
   },
   "outputs": [],
   "source": [
    "folder_path = 'results/tournaments/'\n",
    "filenames = [f for f in os.listdir(folder_path) if os.path.isfile(os.path.join(folder_path, f))]\n",
    "for filename in filenames:\n",
    "    if filename.startswith('h1_plot_residuals'):\n",
    "        display(Image(filename=(folder_path + filename)))"
   ]
  },
  {
   "cell_type": "markdown",
   "metadata": {},
   "source": [
    "Por fim, observamos abaixo o resultado da **regressão linear para a hipótese 2**."
   ]
  },
  {
   "cell_type": "code",
   "execution_count": null,
   "metadata": {
    "execution": {
     "iopub.execute_input": "2023-11-29T01:26:57.644563Z",
     "iopub.status.busy": "2023-11-29T01:26:57.644112Z",
     "iopub.status.idle": "2023-11-29T01:26:57.693621Z",
     "shell.execute_reply": "2023-11-29T01:26:57.692451Z",
     "shell.execute_reply.started": "2023-11-29T01:26:57.644538Z"
    }
   },
   "outputs": [],
   "source": [
    "df = pd.read_excel('results/tournaments/h2_liner_regression.xlsx', index_col=0)\n",
    "pd.set_option('display.max_columns', None)\n",
    "df"
   ]
  },
  {
   "cell_type": "markdown",
   "metadata": {},
   "source": [
    "E os resíduos da regressão linear para a hipótese 2."
   ]
  },
  {
   "cell_type": "code",
   "execution_count": null,
   "metadata": {
    "execution": {
     "iopub.execute_input": "2023-11-29T01:27:00.416137Z",
     "iopub.status.busy": "2023-11-29T01:27:00.415586Z",
     "iopub.status.idle": "2023-11-29T01:27:00.583099Z",
     "shell.execute_reply": "2023-11-29T01:27:00.581771Z",
     "shell.execute_reply.started": "2023-11-29T01:27:00.416111Z"
    }
   },
   "outputs": [],
   "source": [
    "folder_path = 'results/tournaments/'\n",
    "filenames = [f for f in os.listdir(folder_path) if os.path.isfile(os.path.join(folder_path, f))]\n",
    "for filename in filenames:\n",
    "    if filename.startswith('h2_plot_residuals'):\n",
    "        display(Image(filename=(folder_path + filename)))"
   ]
  },
  {
   "cell_type": "markdown",
   "metadata": {},
   "source": [
    "## Recorte cartas do tipo Treinador"
   ]
  },
  {
   "cell_type": "markdown",
   "metadata": {},
   "source": [
    "Vamos visualizar a regressão linear gerada, com o corte de carta do tipo Treinador, bem como sua distribuição de resíduos."
   ]
  },
  {
   "cell_type": "markdown",
   "metadata": {},
   "source": [
    "Primeiro, podemos ver a correlação entre as variáveis abaixo."
   ]
  },
  {
   "cell_type": "code",
   "execution_count": null,
   "metadata": {
    "execution": {
     "iopub.execute_input": "2023-11-29T01:27:03.544268Z",
     "iopub.status.busy": "2023-11-29T01:27:03.542022Z",
     "iopub.status.idle": "2023-11-29T01:27:03.599261Z",
     "shell.execute_reply": "2023-11-29T01:27:03.593385Z",
     "shell.execute_reply.started": "2023-11-29T01:27:03.544230Z"
    }
   },
   "outputs": [],
   "source": [
    "with open('results/tournaments/data_corr.txt', 'r') as f:\n",
    "    content = f.read()\n",
    "\n",
    "df = pd.read_csv(StringIO(content), delim_whitespace=True, index_col=0)\n",
    "pd.set_option('display.max_columns', None)\n",
    "df"
   ]
  },
  {
   "cell_type": "markdown",
   "metadata": {},
   "source": [
    "Em seguida, observar as métricas do conjunto de dados (contagem, média, desvio padrão, mínimo, máximo e quartis)."
   ]
  },
  {
   "cell_type": "code",
   "execution_count": null,
   "metadata": {
    "execution": {
     "iopub.execute_input": "2023-11-29T01:27:04.483237Z",
     "iopub.status.busy": "2023-11-29T01:27:04.482559Z",
     "iopub.status.idle": "2023-11-29T01:27:04.524456Z",
     "shell.execute_reply": "2023-11-29T01:27:04.523325Z",
     "shell.execute_reply.started": "2023-11-29T01:27:04.483197Z"
    }
   },
   "outputs": [],
   "source": [
    "with open('results/tournaments/data_describe.txt', 'r') as f:\n",
    "    content = f.read()\n",
    "\n",
    "df = pd.read_csv(StringIO(content), delim_whitespace=True, index_col=0)\n",
    "pd.set_option('display.max_columns', None)\n",
    "df"
   ]
  },
  {
   "cell_type": "markdown",
   "metadata": {},
   "source": [
    "Com isso, verificamos o resultado da **regressão linear para a hipótese 1**."
   ]
  },
  {
   "cell_type": "code",
   "execution_count": null,
   "metadata": {
    "execution": {
     "iopub.execute_input": "2023-11-29T01:27:10.350970Z",
     "iopub.status.busy": "2023-11-29T01:27:10.349699Z",
     "iopub.status.idle": "2023-11-29T01:27:10.429937Z",
     "shell.execute_reply": "2023-11-29T01:27:10.427678Z",
     "shell.execute_reply.started": "2023-11-29T01:27:10.350927Z"
    }
   },
   "outputs": [],
   "source": [
    "df = pd.read_excel('results/tournaments/h1_liner_regression.xlsx', index_col=0)\n",
    "pd.set_option('display.max_columns', None)\n",
    "df"
   ]
  },
  {
   "cell_type": "markdown",
   "metadata": {},
   "source": [
    "E os resíduos da regressão linear para a hipótese 1."
   ]
  },
  {
   "cell_type": "code",
   "execution_count": null,
   "metadata": {
    "execution": {
     "iopub.execute_input": "2023-11-29T01:27:12.311247Z",
     "iopub.status.busy": "2023-11-29T01:27:12.310516Z",
     "iopub.status.idle": "2023-11-29T01:27:12.465808Z",
     "shell.execute_reply": "2023-11-29T01:27:12.464968Z",
     "shell.execute_reply.started": "2023-11-29T01:27:12.311219Z"
    }
   },
   "outputs": [],
   "source": [
    "folder_path = 'results/tournaments/'\n",
    "filenames = [f for f in os.listdir(folder_path) if os.path.isfile(os.path.join(folder_path, f))]\n",
    "for filename in filenames:\n",
    "    if filename.startswith('h1_plot_residuals'):\n",
    "        display(Image(filename=(folder_path + filename)))"
   ]
  },
  {
   "cell_type": "markdown",
   "metadata": {},
   "source": [
    "Por fim, observamos abaixo o resultado da **regressão linear para a hipótese 2**."
   ]
  },
  {
   "cell_type": "code",
   "execution_count": null,
   "metadata": {
    "execution": {
     "iopub.execute_input": "2023-11-29T01:27:15.603411Z",
     "iopub.status.busy": "2023-11-29T01:27:15.603086Z",
     "iopub.status.idle": "2023-11-29T01:27:15.656306Z",
     "shell.execute_reply": "2023-11-29T01:27:15.653160Z",
     "shell.execute_reply.started": "2023-11-29T01:27:15.603390Z"
    }
   },
   "outputs": [],
   "source": [
    "df = pd.read_excel('results/tournaments/h2_liner_regression.xlsx', index_col=0)\n",
    "pd.set_option('display.max_columns', None)\n",
    "df"
   ]
  },
  {
   "cell_type": "markdown",
   "metadata": {},
   "source": [
    "E os resíduos da regressão linear para a hipótese 2."
   ]
  },
  {
   "cell_type": "code",
   "execution_count": null,
   "metadata": {
    "execution": {
     "iopub.execute_input": "2023-11-29T01:27:17.030360Z",
     "iopub.status.busy": "2023-11-29T01:27:17.029822Z",
     "iopub.status.idle": "2023-11-29T01:27:17.177797Z",
     "shell.execute_reply": "2023-11-29T01:27:17.176297Z",
     "shell.execute_reply.started": "2023-11-29T01:27:17.030328Z"
    }
   },
   "outputs": [],
   "source": [
    "folder_path = 'results/tournaments/'\n",
    "filenames = [f for f in os.listdir(folder_path) if os.path.isfile(os.path.join(folder_path, f))]\n",
    "for filename in filenames:\n",
    "    if filename.startswith('h2_plot_residuals'):\n",
    "        display(Image(filename=(folder_path + filename)))"
   ]
  },
  {
   "cell_type": "code",
   "execution_count": null,
   "metadata": {},
   "outputs": [],
   "source": []
  }
 ],
 "metadata": {
  "kernelspec": {
   "display_name": "Python 3 (ipykernel)",
   "language": "python",
   "name": "python3"
  },
  "language_info": {
   "codemirror_mode": {
    "name": "ipython",
    "version": 3
   },
   "file_extension": ".py",
   "mimetype": "text/x-python",
   "name": "python",
   "nbconvert_exporter": "python",
   "pygments_lexer": "ipython3",
   "version": "3.10.0"
  }
 },
 "nbformat": 4,
 "nbformat_minor": 4
}
