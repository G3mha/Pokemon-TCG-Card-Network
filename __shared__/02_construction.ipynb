{
 "cells": [
  {
   "cell_type": "markdown",
   "metadata": {},
   "source": [
    "# 02 - Construindo as redes e regressões lineares\n",
    "\n",
    "Alunos: Arthur Barreto, Enricco Gemha e Felipe Catapano"
   ]
  },
  {
   "cell_type": "code",
   "execution_count": 8,
   "metadata": {
    "execution": {
     "iopub.execute_input": "2023-11-28T11:38:25.888360Z",
     "iopub.status.busy": "2023-11-28T11:38:25.887985Z",
     "iopub.status.idle": "2023-11-28T11:38:25.902241Z",
     "shell.execute_reply": "2023-11-28T11:38:25.896898Z",
     "shell.execute_reply.started": "2023-11-28T11:38:25.888337Z"
    }
   },
   "outputs": [],
   "source": [
    "PATH = 'tournaments.csv'"
   ]
  },
  {
   "cell_type": "markdown",
   "metadata": {},
   "source": [
    "## Análise dos dados importados"
   ]
  },
  {
   "cell_type": "markdown",
   "metadata": {},
   "source": [
    "Iremos separar os dados da base em três: \n",
    "- cartas do tipo `Pokémon`;\n",
    "- cartas do tipo `Trainer`;\n",
    "- todas as cartas."
   ]
  },
  {
   "cell_type": "code",
   "execution_count": 3,
   "metadata": {
    "execution": {
     "iopub.execute_input": "2023-11-28T11:03:15.592733Z",
     "iopub.status.busy": "2023-11-28T11:03:15.590607Z",
     "iopub.status.idle": "2023-11-28T11:13:35.888496Z",
     "shell.execute_reply": "2023-11-28T11:13:35.886249Z",
     "shell.execute_reply.started": "2023-11-28T11:03:15.592662Z"
    }
   },
   "outputs": [],
   "source": [
    "for cutout in ['Pokémon','Trainer']:\n",
    "    with open(PATH, 'r') as file:\n",
    "        header = file.readline()\n",
    "        with open(f'tournaments_{cutout}.csv', 'w') as file2:\n",
    "            file2.write(header)\n",
    "        for row in file:\n",
    "            row = row.split(',')\n",
    "            if cutout in row[5]:\n",
    "                with open(f'tournaments_{cutout}.csv', 'a') as file2:\n",
    "                    file2.write(','.join(row))"
   ]
  },
  {
   "cell_type": "markdown",
   "metadata": {},
   "source": [
    "Todos os arquivos `.csv` possuem as seguintes colunas:\n",
    "\n",
    "| Index | Coluna |\n",
    "| --- | --- |\n",
    "| 0 | id_card |\n",
    "| 1 | name_card |\n",
    "| 2 | amount_card |\n",
    "| 3 | price_card |\n",
    "| 4 | energy_type_card |\n",
    "| 5 | type_card |\n",
    "| 6 | combo_type_id |\n",
    "| 7 | combo_type_name |\n",
    "| 8 | id_player |\n",
    "| 9 | name_player |\n",
    "| 10 | country_player |\n",
    "| 11 | all_time_score |\n",
    "| 12 | ranking_player_tournament |\n",
    "| 13 | id_tournament |\n",
    "| 14 | category_tournament |\n",
    "| 15 | name_tournament |\n",
    "| 16 | region_tournament |\n",
    "| 17 | country_tournament |\n",
    "| 18 | year_tournament |\n",
    "| 19 | month_tournament |\n",
    "| 20 | day_tournament |\n",
    "| 21 | valid_rotation_at_tournament |\n",
    "| 22 | current_rotation_name |\n",
    "| 23 | current_rotation_year |\n",
    "| 24 | current_rotation_month |\n",
    "| 25 | current_rotation_day |"
   ]
  },
  {
   "cell_type": "markdown",
   "metadata": {},
   "source": [
    "Portanto, vamos fazer uma função para realizar o _parsing_ dos dados e retornar somente as variáveis de interesse."
   ]
  },
  {
   "cell_type": "code",
   "execution_count": 4,
   "metadata": {
    "execution": {
     "iopub.execute_input": "2023-11-28T11:13:35.892641Z",
     "iopub.status.busy": "2023-11-28T11:13:35.892281Z",
     "iopub.status.idle": "2023-11-28T11:13:35.902934Z",
     "shell.execute_reply": "2023-11-28T11:13:35.901008Z",
     "shell.execute_reply.started": "2023-11-28T11:13:35.892613Z"
    }
   },
   "outputs": [],
   "source": [
    "def get_data_from_row(row):\n",
    "    row = row.split(',')\n",
    "    # devemos retornar:\n",
    "        # 1. id do combo (row[6])\n",
    "        # 2. nome da carta (row[0])\n",
    "        # 3. ranking da carta no torneio (row[12])\n",
    "        # 4. quantidade de uma mesma cópia no combo (row[2])\n",
    "        # 5. categoria do torneio disputado (row[14])\n",
    "        # 6. região do torneio disputado (row[16])\n",
    "        # 7. rotation name (row[22])\n",
    "    return row[6], row[0], row[12], row[2], row[14], row[16], row[22]"
   ]
  },
  {
   "cell_type": "markdown",
   "metadata": {},
   "source": [
    "O próximo passo é encapsular toda a lógica de geração da rede e da regressão linear em uma função, para que possamos reutilizar o código, para os três recortes de cartas."
   ]
  },
  {
   "cell_type": "code",
   "execution_count": 1,
   "metadata": {
    "execution": {
     "iopub.execute_input": "2023-11-29T01:17:44.631568Z",
     "iopub.status.busy": "2023-11-29T01:17:44.631187Z",
     "iopub.status.idle": "2023-11-29T01:20:23.805156Z",
     "shell.execute_reply": "2023-11-29T01:20:23.803834Z",
     "shell.execute_reply.started": "2023-11-29T01:17:44.631546Z"
    }
   },
   "outputs": [],
   "source": [
    "from functions import main\n",
    "for path in ['tournaments_Pokémon.csv', 'tournaments_Trainer.csv', 'tournaments.csv']:\n",
    "    main(path)"
   ]
  },
  {
   "cell_type": "markdown",
   "metadata": {},
   "source": [
    "Assim, com os dados gerados colocados em `results/` para cada recorte, podemos analisar os resultados no próximo notebook."
   ]
  }
 ],
 "metadata": {
  "kernelspec": {
   "display_name": "Python 3 (ipykernel)",
   "language": "python",
   "name": "python3"
  },
  "language_info": {
   "codemirror_mode": {
    "name": "ipython",
    "version": 3
   },
   "file_extension": ".py",
   "mimetype": "text/x-python",
   "name": "python",
   "nbconvert_exporter": "python",
   "pygments_lexer": "ipython3",
   "version": "3.11.6"
  }
 },
 "nbformat": 4,
 "nbformat_minor": 4
}
