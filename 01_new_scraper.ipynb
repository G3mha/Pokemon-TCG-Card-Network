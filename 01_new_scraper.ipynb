{
 "cells": [
  {
   "cell_type": "markdown",
   "metadata": {},
   "source": [
    "# Pokémon TCG webscraper"
   ]
  },
  {
   "cell_type": "code",
   "execution_count": 1,
   "metadata": {},
   "outputs": [
    {
     "name": "stderr",
     "output_type": "stream",
     "text": [
      "/Users/enriccogemha/Developer/PokemonTCG-Card-Network/venv/lib/python3.9/site-packages/urllib3/__init__.py:34: NotOpenSSLWarning: urllib3 v2.0 only supports OpenSSL 1.1.1+, currently the 'ssl' module is compiled with 'LibreSSL 2.8.3'. See: https://github.com/urllib3/urllib3/issues/3020\n",
      "  warnings.warn(\n"
     ]
    }
   ],
   "source": [
    "from selenium import webdriver\n",
    "from selenium.webdriver.common.by import By\n",
    "import time"
   ]
  },
  {
   "cell_type": "markdown",
   "metadata": {},
   "source": [
    "## Getting all cards and their data"
   ]
  },
  {
   "cell_type": "code",
   "execution_count": 2,
   "metadata": {},
   "outputs": [],
   "source": [
    "# Extract the card code from the link and format it\n",
    "def get_card_code_from_link(link):\n",
    "    set_code = link.split('/')[-2]\n",
    "    number_card = link.split('/')[-1]\n",
    "    number_card = (3 - len(number_card)) * '0' + number_card\n",
    "    return set_code + number_card\n",
    "\n",
    "# Write the output line given to a file\n",
    "def write_output(key, value):\n",
    "    with open('data/card_printings.txt', 'a') as f:\n",
    "        f.write(key + ':' + ','.join(value) + '\\n')"
   ]
  },
  {
   "cell_type": "code",
   "execution_count": 3,
   "metadata": {},
   "outputs": [],
   "source": [
    "# Write the header of a file\n",
    "with open('data/card_printings.txt', 'w') as f:\n",
    "    f.write('<first_print>:<print1>,<print2>,...,<printn>\\n')"
   ]
  },
  {
   "cell_type": "code",
   "execution_count": 6,
   "metadata": {},
   "outputs": [
    {
     "name": "stderr",
     "output_type": "stream",
     "text": [
      "The chromedriver version (117.0.5938.92) detected in PATH at /opt/homebrew/bin/chromedriver might not be compatible with the detected chrome version (118.0.5993.117); currently, chromedriver 118.0.5993.70 is recommended for chrome 118.*, so it is advised to delete the driver in PATH and retry\n"
     ]
    }
   ],
   "source": [
    "# Set the URL that we will start scraping from\n",
    "URL = 'https://limitlesstcg.com/cards'\n",
    "\n",
    "# Open Chrome\n",
    "driver = webdriver.Chrome()\n",
    "\n",
    "# Open the URL\n",
    "driver.get(URL)\n",
    "time.sleep(0.1)\n",
    "\n",
    "# Let's scrape all the links to the sets\n",
    "e_sets = driver.find_elements(By.XPATH, '/html/body/main/div/table/tbody/tr/td[1]/a')\n",
    "set_links = [element.get_attribute('href') for element in e_sets]\n",
    "\n",
    "# Create a list to store roughly all the cards codes that have been already scraped\n",
    "with open('data/scraped_cards.txt', 'r') as f:\n",
    "    scraped_cards = f.read().splitlines()\n",
    "\n",
    "# Let's enter the page for each set and scrape the links to each card\n",
    "for set_link in set_links:\n",
    "    \n",
    "    # Read the set code from the file to check if this set has already been scraped\n",
    "    with open('data/temp_sets.txt', 'r') as f:\n",
    "        temp_sets = f.read().splitlines()\n",
    "        if set_link.split('/')[-1] in temp_sets:\n",
    "            continue\n",
    "    \n",
    "    # Create a dictionary to store the output for this set\n",
    "    output = {} # key is code for the first print for that card, value is a list of other printings\n",
    "\n",
    "    # Go to set link\n",
    "    driver.get(set_link)\n",
    "    time.sleep(0.1)\n",
    "    \n",
    "    # Get all the links to the cards\n",
    "    e_all_cards = driver.find_element(By.CLASS_NAME, 'card-search-grid').find_elements(By.XPATH, './a')\n",
    "    cards_links = [e.get_attribute('href') for e in e_all_cards]\n",
    "\n",
    "    # Then enter the page for each card and scrape the data\n",
    "    for card_link in cards_links:\n",
    "        \n",
    "        # Get the card code\n",
    "        card_code = get_card_code_from_link(card_link)\n",
    "        \n",
    "        # If this card has already been scraped, then skip it\n",
    "        if card_code in scraped_cards:\n",
    "            continue\n",
    "\n",
    "        # Go to card link\n",
    "        driver.get(card_link)\n",
    "        time.sleep(0.1)\n",
    "\n",
    "        # Get the first print of this card and then all the other printings\n",
    "        e_other_printings = driver.find_element(By.CLASS_NAME, 'card-prints-versions').find_elements(By.XPATH, './tbody/tr/td[1]/a')\n",
    "\n",
    "        # Initialize the first print variables\n",
    "        is_first_print = True\n",
    "        first_print = None\n",
    "\n",
    "        # Get the first print of this card and all the other printings\n",
    "        for e in e_other_printings:\n",
    "            \n",
    "            try:\n",
    "                code = get_card_code_from_link(e.get_attribute('href'))\n",
    "            except: # if e has no href, then it is the current card\n",
    "                code = card_code\n",
    "\n",
    "            if code not in scraped_cards:\n",
    "                scraped_cards.append(card_code)\n",
    "\n",
    "                if is_first_print:\n",
    "                    first_print = code\n",
    "                    is_first_print = False\n",
    "                    output[first_print] = []\n",
    "                else:\n",
    "                    output[first_print].append(code)\n",
    "\n",
    "    # Write the set code to a file for checking progress\n",
    "    with open('data/temp_sets.txt', 'a') as f:\n",
    "        f.write(set_link.split('/')[-1] + '\\n')\n",
    "    \n",
    "    # Backup the scraped cards\n",
    "    with open('data/scraped_cards.txt', 'w') as f:\n",
    "        f.write('\\n'.join(scraped_cards))\n",
    "\n",
    "    # Write the output to a file\n",
    "    for key, value in output.items():\n",
    "        write_output(key, value)\n",
    "\n",
    "# Close the session\n",
    "driver.close()"
   ]
  },
  {
   "cell_type": "code",
   "execution_count": null,
   "metadata": {},
   "outputs": [],
   "source": []
  }
 ],
 "metadata": {
  "kernelspec": {
   "display_name": "venv",
   "language": "python",
   "name": "python3"
  },
  "language_info": {
   "codemirror_mode": {
    "name": "ipython",
    "version": 3
   },
   "file_extension": ".py",
   "mimetype": "text/x-python",
   "name": "python",
   "nbconvert_exporter": "python",
   "pygments_lexer": "ipython3",
   "version": "3.9.6"
  }
 },
 "nbformat": 4,
 "nbformat_minor": 2
}
