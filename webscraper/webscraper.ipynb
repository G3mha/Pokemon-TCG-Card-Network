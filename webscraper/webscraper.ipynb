{
 "cells": [
  {
   "cell_type": "code",
   "execution_count": 3,
   "metadata": {},
   "outputs": [],
   "source": [
    "from selenium import webdriver\n",
    "from selenium.webdriver.common.by import By\n",
    "from selenium.webdriver.chrome.options import Options\n",
    "import time\n",
    "import pyperclip\n",
    "import requests\n",
    "from threading import Thread"
   ]
  },
  {
   "cell_type": "code",
   "execution_count": 4,
   "metadata": {},
   "outputs": [
    {
     "name": "stderr",
     "output_type": "stream",
     "text": [
      "The chromedriver version (117.0.5938.92) detected in PATH at /opt/homebrew/bin/chromedriver might not be compatible with the detected chrome version (118.0.5993.88); currently, chromedriver 118.0.5993.70 is recommended for chrome 118.*, so it is advised to delete the driver in PATH and retry\n"
     ]
    }
   ],
   "source": [
    "# Define the base URL to scrape\n",
    "URL = 'https://limitlesstcg.com'\n",
    "\n",
    "\n",
    "# Create a Chrome driver with the options\n",
    "driver = webdriver.Chrome()"
   ]
  },
  {
   "cell_type": "code",
   "execution_count": 5,
   "metadata": {},
   "outputs": [
    {
     "name": "stdout",
     "output_type": "stream",
     "text": [
      "Regionals: 25\n",
      "Nationals: 23\n",
      "Internationals: 20\n",
      "Worlds: 11\n",
      "Others: 68\n"
     ]
    }
   ],
   "source": [
    "from functions import get_all_tournaments\n",
    "\n",
    "filters = ['regional', 'national', 'international', 'worlds', 'special', 'cl', 'rl', 'online', 'players_cup', 'invitational']\n",
    "tournament_links_by_type = {'regional': [], 'national': [], 'international': [], 'worlds': [], 'others': []}\n",
    "\n",
    "for filter in filters:\n",
    "    # Go to URL for all tournaments between 2011 and 2023\n",
    "    driver.get(URL+f'/tournaments?time=all&type={filter}&format=all&region=all')\n",
    "\n",
    "    # Get all the links to the tournaments\n",
    "    tls = get_all_tournaments(driver)\n",
    "    if filter in ['regional', 'national', 'international', 'worlds']:\n",
    "        tournament_links_by_type[filter] = tls\n",
    "    else:\n",
    "        tournament_links_by_type['others'] += tls\n",
    "\n",
    "print(f\"Regionals: {len(tournament_links_by_type['regional'])}\")\n",
    "print(f\"Nationals: {len(tournament_links_by_type['national'])}\")\n",
    "print(f\"Internationals: {len(tournament_links_by_type['international'])}\")\n",
    "print(f\"Worlds: {len(tournament_links_by_type['worlds'])}\")\n",
    "print(f\"Others: {len(tournament_links_by_type['others'])}\")\n",
    "\n",
    "# Close the session\n",
    "driver.close()"
   ]
  },
  {
   "cell_type": "code",
   "execution_count": 6,
   "metadata": {},
   "outputs": [],
   "source": [
    "with open('data/tournaments.csv', 'w') as f:\n",
    "        f.write('id_card,name_card,amount_card,price_card,energy_type_card,type_card,combo_type_id,combo_type_name,id_player,name_player,country_player,all_time_score,ranking_player_tournament,id_tournament,category_tournament,name_tournament,country_tournament,year_tournament,month_tournament,day_tournament,valid_rotation_at_tournament\\n')"
   ]
  },
  {
   "cell_type": "code",
   "execution_count": 7,
   "metadata": {},
   "outputs": [],
   "source": [
    "from functions import get_tournament_data"
   ]
  },
  {
   "cell_type": "code",
   "execution_count": 8,
   "metadata": {},
   "outputs": [
    {
     "name": "stderr",
     "output_type": "stream",
     "text": [
      "The chromedriver version (117.0.5938.92) detected in PATH at /opt/homebrew/bin/chromedriver might not be compatible with the detected chrome version (118.0.5993.88); currently, chromedriver 118.0.5993.70 is recommended for chrome 118.*, so it is advised to delete the driver in PATH and retry\n",
      "The chromedriver version (117.0.5938.92) detected in PATH at /opt/homebrew/bin/chromedriver might not be compatible with the detected chrome version (118.0.5993.88); currently, chromedriver 118.0.5993.70 is recommended for chrome 118.*, so it is advised to delete the driver in PATH and retry\n",
      "The chromedriver version (117.0.5938.92) detected in PATH at /opt/homebrew/bin/chromedriver might not be compatible with the detected chrome version (118.0.5993.88); currently, chromedriver 118.0.5993.70 is recommended for chrome 118.*, so it is advised to delete the driver in PATH and retry\n",
      "The chromedriver version (117.0.5938.92) detected in PATH at /opt/homebrew/bin/chromedriver might not be compatible with the detected chrome version (118.0.5993.88); currently, chromedriver 118.0.5993.70 is recommended for chrome 118.*, so it is advised to delete the driver in PATH and retry\n",
      "The chromedriver version (117.0.5938.92) detected in PATH at /opt/homebrew/bin/chromedriver might not be compatible with the detected chrome version (118.0.5993.88); currently, chromedriver 118.0.5993.70 is recommended for chrome 118.*, so it is advised to delete the driver in PATH and retry\n",
      "The chromedriver version (117.0.5938.92) detected in PATH at /opt/homebrew/bin/chromedriver might not be compatible with the detected chrome version (118.0.5993.88); currently, chromedriver 118.0.5993.70 is recommended for chrome 118.*, so it is advised to delete the driver in PATH and retry\n",
      "The chromedriver version (117.0.5938.92) detected in PATH at /opt/homebrew/bin/chromedriver might not be compatible with the detected chrome version (118.0.5993.88); currently, chromedriver 118.0.5993.70 is recommended for chrome 118.*, so it is advised to delete the driver in PATH and retry\n",
      "The chromedriver version (117.0.5938.92) detected in PATH at /opt/homebrew/bin/chromedriver might not be compatible with the detected chrome version (118.0.5993.88); currently, chromedriver 118.0.5993.70 is recommended for chrome 118.*, so it is advised to delete the driver in PATH and retry\n",
      "The chromedriver version (117.0.5938.92) detected in PATH at /opt/homebrew/bin/chromedriver might not be compatible with the detected chrome version (118.0.5993.88); currently, chromedriver 118.0.5993.70 is recommended for chrome 118.*, so it is advised to delete the driver in PATH and retry\n",
      "The chromedriver version (117.0.5938.92) detected in PATH at /opt/homebrew/bin/chromedriver might not be compatible with the detected chrome version (118.0.5993.88); currently, chromedriver 118.0.5993.70 is recommended for chrome 118.*, so it is advised to delete the driver in PATH and retry\n",
      "The chromedriver version (117.0.5938.92) detected in PATH at /opt/homebrew/bin/chromedriver might not be compatible with the detected chrome version (118.0.5993.88); currently, chromedriver 118.0.5993.70 is recommended for chrome 118.*, so it is advised to delete the driver in PATH and retry\n",
      "The chromedriver version (117.0.5938.92) detected in PATH at /opt/homebrew/bin/chromedriver might not be compatible with the detected chrome version (118.0.5993.88); currently, chromedriver 118.0.5993.70 is recommended for chrome 118.*, so it is advised to delete the driver in PATH and retry\n",
      "The chromedriver version (117.0.5938.92) detected in PATH at /opt/homebrew/bin/chromedriver might not be compatible with the detected chrome version (118.0.5993.88); currently, chromedriver 118.0.5993.70 is recommended for chrome 118.*, so it is advised to delete the driver in PATH and retry\n"
     ]
    },
    {
     "ename": "NoSuchElementException",
     "evalue": "Message: no such element: Unable to locate element: {\"method\":\"xpath\",\"selector\":\"./td[2]/a[1]\"}\n  (Session info: chrome=118.0.5993.88); For documentation on this error, please visit: https://www.selenium.dev/documentation/webdriver/troubleshooting/errors#no-such-element-exception\nStacktrace:\n0   chromedriver                        0x0000000104cfed98 chromedriver + 4337048\n1   chromedriver                        0x0000000104cf6e14 chromedriver + 4304404\n2   chromedriver                        0x0000000104923a5c chromedriver + 293468\n3   chromedriver                        0x0000000104968d50 chromedriver + 576848\n4   chromedriver                        0x000000010495e200 chromedriver + 532992\n5   chromedriver                        0x00000001049a3908 chromedriver + 817416\n6   chromedriver                        0x000000010495ca5c chromedriver + 526940\n7   chromedriver                        0x000000010495d908 chromedriver + 530696\n8   chromedriver                        0x0000000104cc4de4 chromedriver + 4099556\n9   chromedriver                        0x0000000104cc92a0 chromedriver + 4117152\n10  chromedriver                        0x0000000104ccf52c chromedriver + 4142380\n11  chromedriver                        0x0000000104cc9da0 chromedriver + 4119968\n12  chromedriver                        0x0000000104ca1a74 chromedriver + 3955316\n13  chromedriver                        0x0000000104ce6a48 chromedriver + 4237896\n14  chromedriver                        0x0000000104ce6bc4 chromedriver + 4238276\n15  chromedriver                        0x0000000104cf6a8c chromedriver + 4303500\n16  libsystem_pthread.dylib             0x000000018065f034 _pthread_start + 136\n17  libsystem_pthread.dylib             0x0000000180659e3c thread_start + 8\n",
     "output_type": "error",
     "traceback": [
      "\u001b[0;31m---------------------------------------------------------------------------\u001b[0m",
      "\u001b[0;31mNoSuchElementException\u001b[0m                    Traceback (most recent call last)",
      "\u001b[1;32m/Users/enriccogemha/Developer/PokemonTCG-Card-Network/webscraper/webscraper.ipynb Célula 6\u001b[0m line \u001b[0;36m8\n\u001b[1;32m      <a href='vscode-notebook-cell:/Users/enriccogemha/Developer/PokemonTCG-Card-Network/webscraper/webscraper.ipynb#W4sZmlsZQ%3D%3D?line=1'>2</a>\u001b[0m \u001b[39mfor\u001b[39;00m category, tournament_links \u001b[39min\u001b[39;00m tournament_links_by_type\u001b[39m.\u001b[39mitems():\n\u001b[1;32m      <a href='vscode-notebook-cell:/Users/enriccogemha/Developer/PokemonTCG-Card-Network/webscraper/webscraper.ipynb#W4sZmlsZQ%3D%3D?line=2'>3</a>\u001b[0m     \n\u001b[1;32m      <a href='vscode-notebook-cell:/Users/enriccogemha/Developer/PokemonTCG-Card-Network/webscraper/webscraper.ipynb#W4sZmlsZQ%3D%3D?line=3'>4</a>\u001b[0m     \u001b[39m# Iterate through all the tournaments\u001b[39;00m\n\u001b[1;32m      <a href='vscode-notebook-cell:/Users/enriccogemha/Developer/PokemonTCG-Card-Network/webscraper/webscraper.ipynb#W4sZmlsZQ%3D%3D?line=4'>5</a>\u001b[0m     \u001b[39mfor\u001b[39;00m tl \u001b[39min\u001b[39;00m tournament_links:\n\u001b[1;32m      <a href='vscode-notebook-cell:/Users/enriccogemha/Developer/PokemonTCG-Card-Network/webscraper/webscraper.ipynb#W4sZmlsZQ%3D%3D?line=5'>6</a>\u001b[0m \n\u001b[1;32m      <a href='vscode-notebook-cell:/Users/enriccogemha/Developer/PokemonTCG-Card-Network/webscraper/webscraper.ipynb#W4sZmlsZQ%3D%3D?line=6'>7</a>\u001b[0m         \u001b[39m# Call the function to get the data from a tournament\u001b[39;00m\n\u001b[0;32m----> <a href='vscode-notebook-cell:/Users/enriccogemha/Developer/PokemonTCG-Card-Network/webscraper/webscraper.ipynb#W4sZmlsZQ%3D%3D?line=7'>8</a>\u001b[0m         tournament_data \u001b[39m=\u001b[39m get_tournament_data(category, tl)\n",
      "File \u001b[0;32m~/Developer/PokemonTCG-Card-Network/webscraper/functions.py:58\u001b[0m, in \u001b[0;36mget_tournament_data\u001b[0;34m(t_category, t_link)\u001b[0m\n\u001b[1;32m     55\u001b[0m row[\u001b[39m'\u001b[39m\u001b[39mranking_player_tournament\u001b[39m\u001b[39m'\u001b[39m] \u001b[39m=\u001b[39m e\u001b[39m.\u001b[39mfind_element(By\u001b[39m.\u001b[39mXPATH, \u001b[39m'\u001b[39m\u001b[39m./td[1]\u001b[39m\u001b[39m'\u001b[39m)\u001b[39m.\u001b[39mtext\n\u001b[1;32m     56\u001b[0m row[\u001b[39m'\u001b[39m\u001b[39mcountry_player\u001b[39m\u001b[39m'\u001b[39m] \u001b[39m=\u001b[39m e\u001b[39m.\u001b[39mfind_element(By\u001b[39m.\u001b[39mXPATH, \u001b[39m'\u001b[39m\u001b[39m./td[3]/img\u001b[39m\u001b[39m'\u001b[39m)\u001b[39m.\u001b[39mget_attribute(\u001b[39m'\u001b[39m\u001b[39mdata-tooltip\u001b[39m\u001b[39m'\u001b[39m)\n\u001b[0;32m---> 58\u001b[0m e_player \u001b[39m=\u001b[39m e\u001b[39m.\u001b[39;49mfind_element(By\u001b[39m.\u001b[39;49mXPATH, \u001b[39m'\u001b[39;49m\u001b[39m./td[2]/a[1]\u001b[39;49m\u001b[39m'\u001b[39;49m)\n\u001b[1;32m     59\u001b[0m row[\u001b[39m'\u001b[39m\u001b[39mid_player\u001b[39m\u001b[39m'\u001b[39m] \u001b[39m=\u001b[39m e_player\u001b[39m.\u001b[39mget_attribute(\u001b[39m'\u001b[39m\u001b[39mhref\u001b[39m\u001b[39m'\u001b[39m)\u001b[39m.\u001b[39msplit(\u001b[39m'\u001b[39m\u001b[39m/\u001b[39m\u001b[39m'\u001b[39m)[\u001b[39m-\u001b[39m\u001b[39m1\u001b[39m]\n\u001b[1;32m     60\u001b[0m row[\u001b[39m'\u001b[39m\u001b[39mname_player\u001b[39m\u001b[39m'\u001b[39m] \u001b[39m=\u001b[39m e_player\u001b[39m.\u001b[39mtext\n",
      "File \u001b[0;32m~/Developer/PokemonTCG-Card-Network/venv/lib/python3.9/site-packages/selenium/webdriver/remote/webelement.py:416\u001b[0m, in \u001b[0;36mWebElement.find_element\u001b[0;34m(self, by, value)\u001b[0m\n\u001b[1;32m    413\u001b[0m     by \u001b[39m=\u001b[39m By\u001b[39m.\u001b[39mCSS_SELECTOR\n\u001b[1;32m    414\u001b[0m     value \u001b[39m=\u001b[39m \u001b[39mf\u001b[39m\u001b[39m'\u001b[39m\u001b[39m[name=\u001b[39m\u001b[39m\"\u001b[39m\u001b[39m{\u001b[39;00mvalue\u001b[39m}\u001b[39;00m\u001b[39m\"\u001b[39m\u001b[39m]\u001b[39m\u001b[39m'\u001b[39m\n\u001b[0;32m--> 416\u001b[0m \u001b[39mreturn\u001b[39;00m \u001b[39mself\u001b[39;49m\u001b[39m.\u001b[39;49m_execute(Command\u001b[39m.\u001b[39;49mFIND_CHILD_ELEMENT, {\u001b[39m\"\u001b[39;49m\u001b[39musing\u001b[39;49m\u001b[39m\"\u001b[39;49m: by, \u001b[39m\"\u001b[39;49m\u001b[39mvalue\u001b[39;49m\u001b[39m\"\u001b[39;49m: value})[\u001b[39m\"\u001b[39m\u001b[39mvalue\u001b[39m\u001b[39m\"\u001b[39m]\n",
      "File \u001b[0;32m~/Developer/PokemonTCG-Card-Network/venv/lib/python3.9/site-packages/selenium/webdriver/remote/webelement.py:394\u001b[0m, in \u001b[0;36mWebElement._execute\u001b[0;34m(self, command, params)\u001b[0m\n\u001b[1;32m    392\u001b[0m     params \u001b[39m=\u001b[39m {}\n\u001b[1;32m    393\u001b[0m params[\u001b[39m\"\u001b[39m\u001b[39mid\u001b[39m\u001b[39m\"\u001b[39m] \u001b[39m=\u001b[39m \u001b[39mself\u001b[39m\u001b[39m.\u001b[39m_id\n\u001b[0;32m--> 394\u001b[0m \u001b[39mreturn\u001b[39;00m \u001b[39mself\u001b[39;49m\u001b[39m.\u001b[39;49m_parent\u001b[39m.\u001b[39;49mexecute(command, params)\n",
      "File \u001b[0;32m~/Developer/PokemonTCG-Card-Network/venv/lib/python3.9/site-packages/selenium/webdriver/remote/webdriver.py:344\u001b[0m, in \u001b[0;36mWebDriver.execute\u001b[0;34m(self, driver_command, params)\u001b[0m\n\u001b[1;32m    342\u001b[0m response \u001b[39m=\u001b[39m \u001b[39mself\u001b[39m\u001b[39m.\u001b[39mcommand_executor\u001b[39m.\u001b[39mexecute(driver_command, params)\n\u001b[1;32m    343\u001b[0m \u001b[39mif\u001b[39;00m response:\n\u001b[0;32m--> 344\u001b[0m     \u001b[39mself\u001b[39;49m\u001b[39m.\u001b[39;49merror_handler\u001b[39m.\u001b[39;49mcheck_response(response)\n\u001b[1;32m    345\u001b[0m     response[\u001b[39m\"\u001b[39m\u001b[39mvalue\u001b[39m\u001b[39m\"\u001b[39m] \u001b[39m=\u001b[39m \u001b[39mself\u001b[39m\u001b[39m.\u001b[39m_unwrap_value(response\u001b[39m.\u001b[39mget(\u001b[39m\"\u001b[39m\u001b[39mvalue\u001b[39m\u001b[39m\"\u001b[39m, \u001b[39mNone\u001b[39;00m))\n\u001b[1;32m    346\u001b[0m     \u001b[39mreturn\u001b[39;00m response\n",
      "File \u001b[0;32m~/Developer/PokemonTCG-Card-Network/venv/lib/python3.9/site-packages/selenium/webdriver/remote/errorhandler.py:229\u001b[0m, in \u001b[0;36mErrorHandler.check_response\u001b[0;34m(self, response)\u001b[0m\n\u001b[1;32m    227\u001b[0m         alert_text \u001b[39m=\u001b[39m value[\u001b[39m\"\u001b[39m\u001b[39malert\u001b[39m\u001b[39m\"\u001b[39m]\u001b[39m.\u001b[39mget(\u001b[39m\"\u001b[39m\u001b[39mtext\u001b[39m\u001b[39m\"\u001b[39m)\n\u001b[1;32m    228\u001b[0m     \u001b[39mraise\u001b[39;00m exception_class(message, screen, stacktrace, alert_text)  \u001b[39m# type: ignore[call-arg]  # mypy is not smart enough here\u001b[39;00m\n\u001b[0;32m--> 229\u001b[0m \u001b[39mraise\u001b[39;00m exception_class(message, screen, stacktrace)\n",
      "\u001b[0;31mNoSuchElementException\u001b[0m: Message: no such element: Unable to locate element: {\"method\":\"xpath\",\"selector\":\"./td[2]/a[1]\"}\n  (Session info: chrome=118.0.5993.88); For documentation on this error, please visit: https://www.selenium.dev/documentation/webdriver/troubleshooting/errors#no-such-element-exception\nStacktrace:\n0   chromedriver                        0x0000000104cfed98 chromedriver + 4337048\n1   chromedriver                        0x0000000104cf6e14 chromedriver + 4304404\n2   chromedriver                        0x0000000104923a5c chromedriver + 293468\n3   chromedriver                        0x0000000104968d50 chromedriver + 576848\n4   chromedriver                        0x000000010495e200 chromedriver + 532992\n5   chromedriver                        0x00000001049a3908 chromedriver + 817416\n6   chromedriver                        0x000000010495ca5c chromedriver + 526940\n7   chromedriver                        0x000000010495d908 chromedriver + 530696\n8   chromedriver                        0x0000000104cc4de4 chromedriver + 4099556\n9   chromedriver                        0x0000000104cc92a0 chromedriver + 4117152\n10  chromedriver                        0x0000000104ccf52c chromedriver + 4142380\n11  chromedriver                        0x0000000104cc9da0 chromedriver + 4119968\n12  chromedriver                        0x0000000104ca1a74 chromedriver + 3955316\n13  chromedriver                        0x0000000104ce6a48 chromedriver + 4237896\n14  chromedriver                        0x0000000104ce6bc4 chromedriver + 4238276\n15  chromedriver                        0x0000000104cf6a8c chromedriver + 4303500\n16  libsystem_pthread.dylib             0x000000018065f034 _pthread_start + 136\n17  libsystem_pthread.dylib             0x0000000180659e3c thread_start + 8\n"
     ]
    }
   ],
   "source": [
    "# Iterate through all the categories\n",
    "for category, tournament_links in tournament_links_by_type.items():\n",
    "    \n",
    "    # Iterate through all the tournaments\n",
    "    for tl in tournament_links:\n",
    "\n",
    "        # Call the function to get the data from a tournament\n",
    "        tournament_data = get_tournament_data(category, tl)\n"
   ]
  },
  {
   "cell_type": "code",
   "execution_count": null,
   "metadata": {},
   "outputs": [],
   "source": []
  }
 ],
 "metadata": {
  "kernelspec": {
   "display_name": "venv",
   "language": "python",
   "name": "python3"
  },
  "language_info": {
   "codemirror_mode": {
    "name": "ipython",
    "version": 3
   },
   "file_extension": ".py",
   "mimetype": "text/x-python",
   "name": "python",
   "nbconvert_exporter": "python",
   "pygments_lexer": "ipython3",
   "version": "3.9.6"
  }
 },
 "nbformat": 4,
 "nbformat_minor": 2
}
